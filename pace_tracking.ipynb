{
 "cells": [
  {
   "cell_type": "markdown",
   "metadata": {},
   "source": [
    "# Plotting pace data\n",
    "\n",
    "source: Fitbit"
   ]
  },
  {
   "cell_type": "code",
   "execution_count": 274,
   "metadata": {},
   "outputs": [],
   "source": [
    "import tcxparser \n",
    "import pandas as pd\n",
    "import xmltodict as xml\n",
    "import collections\n",
    "from pint import UnitRegistry\n",
    "import seaborn as sns\n",
    "import matplotlib.pyplot as plt"
   ]
  },
  {
   "cell_type": "code",
   "execution_count": 360,
   "metadata": {},
   "outputs": [
    {
     "name": "stdout",
     "output_type": "stream",
     "text": [
      "running\n",
      "2017-09-08T08:29:24.000-07:00\n",
      "3573.0\n"
     ]
    }
   ],
   "source": [
    "# tcxparser tests \n",
    "tcx_file = \"9785157455.tcx\"\n",
    "tcx_data = tcx.TCXParser(tcx_file)\n",
    "print(tcx_data.activity_type)\n",
    "print(tcx_data.completed_at)\n",
    "print(tcx_data.duration)\n",
    "\n",
    "# TCX parser doesn't return the distance! WTH!"
   ]
  },
  {
   "cell_type": "code",
   "execution_count": 281,
   "metadata": {},
   "outputs": [],
   "source": [
    "def run_metrics(tcx_file):\n",
    "    \n",
    "    \"\"\"Parses tcx_file. \n",
    "    Returns: start time of run and dictionary of lap, distance, and time.\"\"\"\n",
    "    \n",
    "    with open(tcx_file) as tcx:\n",
    "        try:\n",
    "            tcx_obj = xml.parse(tcx.read())\n",
    "            total_dist_m = 0\n",
    "            total_time_sec = 0\n",
    "            start_time = str(tcx_obj['TrainingCenterDatabase']['Activities']['Activity']['Lap'][0]['@StartTime'])\n",
    "            lap_dict = collections.OrderedDict()\n",
    "            laps = tcx_obj['TrainingCenterDatabase']['Activities']['Activity']['Lap']\n",
    "            if laps:\n",
    "                for n, lap in enumerate(laps):\n",
    "                    lap_dict[n] = float(total_dist_m), float(total_time_sec)\n",
    "                    total_dist_m+=float(lap['DistanceMeters'])\n",
    "                    total_time_sec+=float(lap['TotalTimeSeconds'])\n",
    "                return start_time, total_dist_m, total_time_sec\n",
    "            else:\n",
    "                return None\n",
    "        except:\n",
    "            print \"Error!\", tcx_file   \n",
    "    \n",
    "# Test function\n",
    "start, dist_m, time_s = run_metrics('9785157455.tcx')"
   ]
  },
  {
   "cell_type": "code",
   "execution_count": 282,
   "metadata": {},
   "outputs": [
    {
     "name": "stdout",
     "output_type": "stream",
     "text": [
      "Error! .DS_Store\n",
      "Error! 8437947695.tcx\n",
      "Error! 9022871344.tcx\n"
     ]
    }
   ],
   "source": [
    "# Parse files and create a df!\n",
    "\n",
    "run_data_list = []\n",
    "import os\n",
    "for tcx_file in os.listdir('.'):\n",
    "    tup = run_metrics(tcx_file)\n",
    "    if tup:\n",
    "        run_data_list.append(tup)"
   ]
  },
  {
   "cell_type": "code",
   "execution_count": 283,
   "metadata": {},
   "outputs": [],
   "source": [
    "run_data = pd.DataFrame(run_data_list, columns = ['start', 'distance (m)', 'time (s)'])\n",
    "run_data['start'] = pd.to_datetime(run_data['start'])"
   ]
  },
  {
   "cell_type": "code",
   "execution_count": 284,
   "metadata": {},
   "outputs": [
    {
     "data": {
      "text/plain": [
       "(93, 3)"
      ]
     },
     "execution_count": 284,
     "metadata": {},
     "output_type": "execute_result"
    }
   ],
   "source": [
    "run_data.shape"
   ]
  },
  {
   "cell_type": "code",
   "execution_count": 285,
   "metadata": {},
   "outputs": [
    {
     "data": {
      "text/html": [
       "<div>\n",
       "<style>\n",
       "    .dataframe thead tr:only-child th {\n",
       "        text-align: right;\n",
       "    }\n",
       "\n",
       "    .dataframe thead th {\n",
       "        text-align: left;\n",
       "    }\n",
       "\n",
       "    .dataframe tbody tr th {\n",
       "        vertical-align: top;\n",
       "    }\n",
       "</style>\n",
       "<table border=\"1\" class=\"dataframe\">\n",
       "  <thead>\n",
       "    <tr style=\"text-align: right;\">\n",
       "      <th></th>\n",
       "      <th>start</th>\n",
       "      <th>distance (m)</th>\n",
       "      <th>time (s)</th>\n",
       "    </tr>\n",
       "  </thead>\n",
       "  <tbody>\n",
       "    <tr>\n",
       "      <th>0</th>\n",
       "      <td>2016-12-31 15:12:00</td>\n",
       "      <td>26600.0</td>\n",
       "      <td>8691.0</td>\n",
       "    </tr>\n",
       "    <tr>\n",
       "      <th>1</th>\n",
       "      <td>2017-01-14 15:28:57</td>\n",
       "      <td>29190.0</td>\n",
       "      <td>9552.0</td>\n",
       "    </tr>\n",
       "    <tr>\n",
       "      <th>2</th>\n",
       "      <td>2017-01-17 12:59:23</td>\n",
       "      <td>11530.0</td>\n",
       "      <td>3901.0</td>\n",
       "    </tr>\n",
       "    <tr>\n",
       "      <th>3</th>\n",
       "      <td>2017-01-19 00:59:18</td>\n",
       "      <td>8170.0</td>\n",
       "      <td>2526.0</td>\n",
       "    </tr>\n",
       "    <tr>\n",
       "      <th>4</th>\n",
       "      <td>2017-01-19 19:16:12</td>\n",
       "      <td>10700.0</td>\n",
       "      <td>3262.0</td>\n",
       "    </tr>\n",
       "  </tbody>\n",
       "</table>\n",
       "</div>"
      ],
      "text/plain": [
       "                start  distance (m)  time (s)\n",
       "0 2016-12-31 15:12:00       26600.0    8691.0\n",
       "1 2017-01-14 15:28:57       29190.0    9552.0\n",
       "2 2017-01-17 12:59:23       11530.0    3901.0\n",
       "3 2017-01-19 00:59:18        8170.0    2526.0\n",
       "4 2017-01-19 19:16:12       10700.0    3262.0"
      ]
     },
     "execution_count": 285,
     "metadata": {},
     "output_type": "execute_result"
    }
   ],
   "source": [
    "run_data.head()"
   ]
  },
  {
   "cell_type": "code",
   "execution_count": 286,
   "metadata": {},
   "outputs": [],
   "source": [
    "from pint import UnitRegistry\n",
    "ureg = UnitRegistry()"
   ]
  },
  {
   "cell_type": "code",
   "execution_count": 287,
   "metadata": {},
   "outputs": [],
   "source": [
    "min_per_mi_list = []\n",
    "\n",
    "for n, row in run_data.iterrows():\n",
    "    dist = (row['distance (m)']) * ureg.meter\n",
    "    miles = dist.to(ureg.mile)\n",
    "    \n",
    "    secs = (row['time (s)']) * ureg.seconds\n",
    "    minutes = secs.to(ureg.minute)\n",
    "    \n",
    "    min_per_mile = (minutes/miles).magnitude\n",
    "    tup = miles, minutes, min_per_mile\n",
    "    min_per_mi_list.append(tup)"
   ]
  },
  {
   "cell_type": "code",
   "execution_count": 288,
   "metadata": {},
   "outputs": [
    {
     "data": {
      "text/html": [
       "<div>\n",
       "<style>\n",
       "    .dataframe thead tr:only-child th {\n",
       "        text-align: right;\n",
       "    }\n",
       "\n",
       "    .dataframe thead th {\n",
       "        text-align: left;\n",
       "    }\n",
       "\n",
       "    .dataframe tbody tr th {\n",
       "        vertical-align: top;\n",
       "    }\n",
       "</style>\n",
       "<table border=\"1\" class=\"dataframe\">\n",
       "  <thead>\n",
       "    <tr style=\"text-align: right;\">\n",
       "      <th></th>\n",
       "      <th>miles</th>\n",
       "      <th>minutes</th>\n",
       "      <th>min_per_mile</th>\n",
       "    </tr>\n",
       "  </thead>\n",
       "  <tbody>\n",
       "    <tr>\n",
       "      <th>0</th>\n",
       "      <td>16.5284737135 mile</td>\n",
       "      <td>144.85 minute</td>\n",
       "      <td>8.763665</td>\n",
       "    </tr>\n",
       "    <tr>\n",
       "      <th>1</th>\n",
       "      <td>18.1378251014 mile</td>\n",
       "      <td>159.2 minute</td>\n",
       "      <td>8.777238</td>\n",
       "    </tr>\n",
       "    <tr>\n",
       "      <th>2</th>\n",
       "      <td>7.1644098465 mile</td>\n",
       "      <td>65.0166666667 minute</td>\n",
       "      <td>9.074951</td>\n",
       "    </tr>\n",
       "    <tr>\n",
       "      <th>3</th>\n",
       "      <td>5.07660264058 mile</td>\n",
       "      <td>42.1 minute</td>\n",
       "      <td>8.292948</td>\n",
       "    </tr>\n",
       "    <tr>\n",
       "      <th>4</th>\n",
       "      <td>6.64867175694 mile</td>\n",
       "      <td>54.3666666667 minute</td>\n",
       "      <td>8.177072</td>\n",
       "    </tr>\n",
       "  </tbody>\n",
       "</table>\n",
       "</div>"
      ],
      "text/plain": [
       "                miles               minutes  min_per_mile\n",
       "0  16.5284737135 mile         144.85 minute      8.763665\n",
       "1  18.1378251014 mile          159.2 minute      8.777238\n",
       "2   7.1644098465 mile  65.0166666667 minute      9.074951\n",
       "3  5.07660264058 mile           42.1 minute      8.292948\n",
       "4  6.64867175694 mile  54.3666666667 minute      8.177072"
      ]
     },
     "execution_count": 288,
     "metadata": {},
     "output_type": "execute_result"
    }
   ],
   "source": [
    "pace_df = pd.DataFrame(min_per_mi_list, columns = ['miles', 'minutes', 'min_per_mile'])\n",
    "pace_df.head()"
   ]
  },
  {
   "cell_type": "code",
   "execution_count": 361,
   "metadata": {},
   "outputs": [
    {
     "data": {
      "text/html": [
       "<div>\n",
       "<style>\n",
       "    .dataframe thead tr:only-child th {\n",
       "        text-align: right;\n",
       "    }\n",
       "\n",
       "    .dataframe thead th {\n",
       "        text-align: left;\n",
       "    }\n",
       "\n",
       "    .dataframe tbody tr th {\n",
       "        vertical-align: top;\n",
       "    }\n",
       "</style>\n",
       "<table border=\"1\" class=\"dataframe\">\n",
       "  <thead>\n",
       "    <tr style=\"text-align: right;\">\n",
       "      <th></th>\n",
       "      <th>start</th>\n",
       "      <th>distance (m)</th>\n",
       "      <th>time (s)</th>\n",
       "      <th>miles</th>\n",
       "      <th>minutes</th>\n",
       "      <th>min_per_mile</th>\n",
       "      <th>date</th>\n",
       "    </tr>\n",
       "  </thead>\n",
       "  <tbody>\n",
       "    <tr>\n",
       "      <th>0</th>\n",
       "      <td>2016-12-31 15:12:00</td>\n",
       "      <td>26600.0</td>\n",
       "      <td>8691.0</td>\n",
       "      <td>16.5284737135 mile</td>\n",
       "      <td>144.85 minute</td>\n",
       "      <td>8.763665</td>\n",
       "      <td>12/31/16</td>\n",
       "    </tr>\n",
       "    <tr>\n",
       "      <th>1</th>\n",
       "      <td>2017-01-14 15:28:57</td>\n",
       "      <td>29190.0</td>\n",
       "      <td>9552.0</td>\n",
       "      <td>18.1378251014 mile</td>\n",
       "      <td>159.2 minute</td>\n",
       "      <td>8.777238</td>\n",
       "      <td>01/14/17</td>\n",
       "    </tr>\n",
       "    <tr>\n",
       "      <th>2</th>\n",
       "      <td>2017-01-17 12:59:23</td>\n",
       "      <td>11530.0</td>\n",
       "      <td>3901.0</td>\n",
       "      <td>7.1644098465 mile</td>\n",
       "      <td>65.0166666667 minute</td>\n",
       "      <td>9.074951</td>\n",
       "      <td>01/17/17</td>\n",
       "    </tr>\n",
       "    <tr>\n",
       "      <th>3</th>\n",
       "      <td>2017-01-19 00:59:18</td>\n",
       "      <td>8170.0</td>\n",
       "      <td>2526.0</td>\n",
       "      <td>5.07660264058 mile</td>\n",
       "      <td>42.1 minute</td>\n",
       "      <td>8.292948</td>\n",
       "      <td>01/19/17</td>\n",
       "    </tr>\n",
       "    <tr>\n",
       "      <th>4</th>\n",
       "      <td>2017-01-19 19:16:12</td>\n",
       "      <td>10700.0</td>\n",
       "      <td>3262.0</td>\n",
       "      <td>6.64867175694 mile</td>\n",
       "      <td>54.3666666667 minute</td>\n",
       "      <td>8.177072</td>\n",
       "      <td>01/19/17</td>\n",
       "    </tr>\n",
       "  </tbody>\n",
       "</table>\n",
       "</div>"
      ],
      "text/plain": [
       "                start  distance (m)  time (s)               miles  \\\n",
       "0 2016-12-31 15:12:00       26600.0    8691.0  16.5284737135 mile   \n",
       "1 2017-01-14 15:28:57       29190.0    9552.0  18.1378251014 mile   \n",
       "2 2017-01-17 12:59:23       11530.0    3901.0   7.1644098465 mile   \n",
       "3 2017-01-19 00:59:18        8170.0    2526.0  5.07660264058 mile   \n",
       "4 2017-01-19 19:16:12       10700.0    3262.0  6.64867175694 mile   \n",
       "\n",
       "                minutes  min_per_mile      date  \n",
       "0         144.85 minute      8.763665  12/31/16  \n",
       "1          159.2 minute      8.777238  01/14/17  \n",
       "2  65.0166666667 minute      9.074951  01/17/17  \n",
       "3           42.1 minute      8.292948  01/19/17  \n",
       "4  54.3666666667 minute      8.177072  01/19/17  "
      ]
     },
     "execution_count": 361,
     "metadata": {},
     "output_type": "execute_result"
    }
   ],
   "source": [
    "# Add pace and create a 'date' only column\n",
    "run_data[pace_df.columns.tolist()] = pace_df[pace_df.columns.tolist()]\n",
    "datetime_index_df = pd.DatetimeIndex(run_data['start']).normalize()\n",
    "run_data['date'] = datetime_index_df.strftime('%D')\n",
    "\n",
    "# Drop outliers that are likely tracking errors\n",
    "ind_to_drop = run_data.loc[run_data['min_per_mile'] < 6.5].index.tolist()\n",
    "run_data.drop(ind_to_drop, inplace=True)\n",
    "run_data.head()"
   ]
  },
  {
   "cell_type": "code",
   "execution_count": 342,
   "metadata": {
    "collapsed": true
   },
   "outputs": [],
   "source": [
    "mean_pace = run_data['min_per_mile'].mean()"
   ]
  },
  {
   "cell_type": "code",
   "execution_count": 343,
   "metadata": {},
   "outputs": [
    {
     "data": {
      "image/png": "[encoded data removed]",
      "text/plain": [
       "<matplotlib.figure.Figure at 0x124e1b890>"
      ]
     },
     "metadata": {},
     "output_type": "display_data"
    }
   ],
   "source": [
    "%matplotlib inline \n",
    "plt.rcParams['figure.figsize'] = (18, 6)\n",
    "# plot this shameful data\n",
    "sns.pointplot(x = run_data['date'], y = run_data['min_per_mile'], ci=None)\n",
    "plt.axhline(y=mean_pace, color='r', linestyle='--')\n",
    "plt.xticks(size = 11, rotation='vertical')\n",
    "plt.ylim(7, 10)\n",
    "plt.yticks(size=12)\n",
    "plt.ylabel(\"Pace (minutes/mile)\", size=17)\n",
    "plt.xlabel(\"Date\", size=17)\n",
    "plt.tight_layout()\n",
    "plt.savefig(\"pace.png\")"
   ]
  },
  {
   "cell_type": "code",
   "execution_count": 344,
   "metadata": {},
   "outputs": [
    {
     "data": {
      "text/plain": [
       "8.65404988736411"
      ]
     },
     "execution_count": 344,
     "metadata": {},
     "output_type": "execute_result"
    }
   ],
   "source": [
    "mean_pace"
   ]
  },
  {
   "cell_type": "code",
   "execution_count": 359,
   "metadata": {},
   "outputs": [
    {
     "data": {
      "text/html": [
       "<div>\n",
       "<style>\n",
       "    .dataframe thead tr:only-child th {\n",
       "        text-align: right;\n",
       "    }\n",
       "\n",
       "    .dataframe thead th {\n",
       "        text-align: left;\n",
       "    }\n",
       "\n",
       "    .dataframe tbody tr th {\n",
       "        vertical-align: top;\n",
       "    }\n",
       "</style>\n",
       "<table border=\"1\" class=\"dataframe\">\n",
       "  <thead>\n",
       "    <tr style=\"text-align: right;\">\n",
       "      <th></th>\n",
       "      <th>start</th>\n",
       "      <th>distance (m)</th>\n",
       "      <th>time (s)</th>\n",
       "      <th>miles</th>\n",
       "      <th>minutes</th>\n",
       "      <th>min_per_mile</th>\n",
       "      <th>date</th>\n",
       "    </tr>\n",
       "  </thead>\n",
       "  <tbody>\n",
       "    <tr>\n",
       "      <th>83</th>\n",
       "      <td>2017-08-19 17:59:07</td>\n",
       "      <td>7010.0</td>\n",
       "      <td>2520.0</td>\n",
       "      <td>4.35581205758 mile</td>\n",
       "      <td>42.0 minute</td>\n",
       "      <td>9.642289</td>\n",
       "      <td>08/19/17</td>\n",
       "    </tr>\n",
       "    <tr>\n",
       "      <th>81</th>\n",
       "      <td>2017-08-13 15:01:42</td>\n",
       "      <td>11830.0</td>\n",
       "      <td>4204.0</td>\n",
       "      <td>7.35082120417 mile</td>\n",
       "      <td>70.0666666667 minute</td>\n",
       "      <td>9.531815</td>\n",
       "      <td>08/13/17</td>\n",
       "    </tr>\n",
       "    <tr>\n",
       "      <th>11</th>\n",
       "      <td>2017-01-31 13:06:42</td>\n",
       "      <td>11260.0</td>\n",
       "      <td>3923.0</td>\n",
       "      <td>6.99663962459 mile</td>\n",
       "      <td>65.3833333333 minute</td>\n",
       "      <td>9.344962</td>\n",
       "      <td>01/31/17</td>\n",
       "    </tr>\n",
       "    <tr>\n",
       "      <th>36</th>\n",
       "      <td>2017-03-23 12:31:33</td>\n",
       "      <td>11060.0</td>\n",
       "      <td>3821.0</td>\n",
       "      <td>6.87236538614 mile</td>\n",
       "      <td>63.6833333333 minute</td>\n",
       "      <td>9.266581</td>\n",
       "      <td>03/23/17</td>\n",
       "    </tr>\n",
       "    <tr>\n",
       "      <th>22</th>\n",
       "      <td>2017-02-16 13:30:10</td>\n",
       "      <td>8490.0</td>\n",
       "      <td>2920.0</td>\n",
       "      <td>5.27544142209 mile</td>\n",
       "      <td>48.6666666667 minute</td>\n",
       "      <td>9.225136</td>\n",
       "      <td>02/16/17</td>\n",
       "    </tr>\n",
       "    <tr>\n",
       "      <th>30</th>\n",
       "      <td>2017-03-09 13:22:21</td>\n",
       "      <td>11220.0</td>\n",
       "      <td>3852.0</td>\n",
       "      <td>6.9717847769 mile</td>\n",
       "      <td>64.2 minute</td>\n",
       "      <td>9.208546</td>\n",
       "      <td>03/09/17</td>\n",
       "    </tr>\n",
       "    <tr>\n",
       "      <th>34</th>\n",
       "      <td>2017-03-15 13:52:57</td>\n",
       "      <td>11130.0</td>\n",
       "      <td>3794.0</td>\n",
       "      <td>6.9158613696 mile</td>\n",
       "      <td>63.2333333333 minute</td>\n",
       "      <td>9.143233</td>\n",
       "      <td>03/15/17</td>\n",
       "    </tr>\n",
       "    <tr>\n",
       "      <th>55</th>\n",
       "      <td>2017-06-04 18:21:01</td>\n",
       "      <td>12630.0</td>\n",
       "      <td>4302.0</td>\n",
       "      <td>7.84791815796 mile</td>\n",
       "      <td>71.7 minute</td>\n",
       "      <td>9.136181</td>\n",
       "      <td>06/04/17</td>\n",
       "    </tr>\n",
       "    <tr>\n",
       "      <th>80</th>\n",
       "      <td>2017-08-11 13:57:28</td>\n",
       "      <td>8150.0</td>\n",
       "      <td>2771.0</td>\n",
       "      <td>5.06417521673 mile</td>\n",
       "      <td>46.1833333333 minute</td>\n",
       "      <td>9.119616</td>\n",
       "      <td>08/11/17</td>\n",
       "    </tr>\n",
       "    <tr>\n",
       "      <th>48</th>\n",
       "      <td>2017-04-30 13:50:32</td>\n",
       "      <td>42610.0</td>\n",
       "      <td>14482.0</td>\n",
       "      <td>26.4766265012 mile</td>\n",
       "      <td>241.366666667 minute</td>\n",
       "      <td>9.116217</td>\n",
       "      <td>04/30/17</td>\n",
       "    </tr>\n",
       "  </tbody>\n",
       "</table>\n",
       "</div>"
      ],
      "text/plain": [
       "                 start  distance (m)  time (s)               miles  \\\n",
       "83 2017-08-19 17:59:07        7010.0    2520.0  4.35581205758 mile   \n",
       "81 2017-08-13 15:01:42       11830.0    4204.0  7.35082120417 mile   \n",
       "11 2017-01-31 13:06:42       11260.0    3923.0  6.99663962459 mile   \n",
       "36 2017-03-23 12:31:33       11060.0    3821.0  6.87236538614 mile   \n",
       "22 2017-02-16 13:30:10        8490.0    2920.0  5.27544142209 mile   \n",
       "30 2017-03-09 13:22:21       11220.0    3852.0   6.9717847769 mile   \n",
       "34 2017-03-15 13:52:57       11130.0    3794.0   6.9158613696 mile   \n",
       "55 2017-06-04 18:21:01       12630.0    4302.0  7.84791815796 mile   \n",
       "80 2017-08-11 13:57:28        8150.0    2771.0  5.06417521673 mile   \n",
       "48 2017-04-30 13:50:32       42610.0   14482.0  26.4766265012 mile   \n",
       "\n",
       "                 minutes  min_per_mile      date  \n",
       "83           42.0 minute      9.642289  08/19/17  \n",
       "81  70.0666666667 minute      9.531815  08/13/17  \n",
       "11  65.3833333333 minute      9.344962  01/31/17  \n",
       "36  63.6833333333 minute      9.266581  03/23/17  \n",
       "22  48.6666666667 minute      9.225136  02/16/17  \n",
       "30           64.2 minute      9.208546  03/09/17  \n",
       "34  63.2333333333 minute      9.143233  03/15/17  \n",
       "55           71.7 minute      9.136181  06/04/17  \n",
       "80  46.1833333333 minute      9.119616  08/11/17  \n",
       "48  241.366666667 minute      9.116217  04/30/17  "
      ]
     },
     "execution_count": 359,
     "metadata": {},
     "output_type": "execute_result"
    }
   ],
   "source": [
    "sorted_data = run_data.sort_values(by='min_per_mile', ascending=False)\n",
    "sorted_data.head(10)"
   ]
  },
  {
   "cell_type": "code",
   "execution_count": 358,
   "metadata": {},
   "outputs": [
    {
     "data": {
      "text/html": [
       "<div>\n",
       "<style>\n",
       "    .dataframe thead tr:only-child th {\n",
       "        text-align: right;\n",
       "    }\n",
       "\n",
       "    .dataframe thead th {\n",
       "        text-align: left;\n",
       "    }\n",
       "\n",
       "    .dataframe tbody tr th {\n",
       "        vertical-align: top;\n",
       "    }\n",
       "</style>\n",
       "<table border=\"1\" class=\"dataframe\">\n",
       "  <thead>\n",
       "    <tr style=\"text-align: right;\">\n",
       "      <th></th>\n",
       "      <th>min_per_mile</th>\n",
       "    </tr>\n",
       "  </thead>\n",
       "  <tbody>\n",
       "    <tr>\n",
       "      <th>count</th>\n",
       "      <td>92.000000</td>\n",
       "    </tr>\n",
       "    <tr>\n",
       "      <th>mean</th>\n",
       "      <td>8.654050</td>\n",
       "    </tr>\n",
       "    <tr>\n",
       "      <th>std</th>\n",
       "      <td>0.322611</td>\n",
       "    </tr>\n",
       "    <tr>\n",
       "      <th>min</th>\n",
       "      <td>7.593949</td>\n",
       "    </tr>\n",
       "    <tr>\n",
       "      <th>25%</th>\n",
       "      <td>8.458543</td>\n",
       "    </tr>\n",
       "    <tr>\n",
       "      <th>50%</th>\n",
       "      <td>8.638275</td>\n",
       "    </tr>\n",
       "    <tr>\n",
       "      <th>75%</th>\n",
       "      <td>8.797947</td>\n",
       "    </tr>\n",
       "    <tr>\n",
       "      <th>max</th>\n",
       "      <td>9.642289</td>\n",
       "    </tr>\n",
       "  </tbody>\n",
       "</table>\n",
       "</div>"
      ],
      "text/plain": [
       "       min_per_mile\n",
       "count     92.000000\n",
       "mean       8.654050\n",
       "std        0.322611\n",
       "min        7.593949\n",
       "25%        8.458543\n",
       "50%        8.638275\n",
       "75%        8.797947\n",
       "max        9.642289"
      ]
     },
     "execution_count": 358,
     "metadata": {},
     "output_type": "execute_result"
    }
   ],
   "source": [
    "run_data[['min_per_mile']].describe()"
   ]
  },
  {
   "cell_type": "code",
   "execution_count": null,
   "metadata": {
    "collapsed": true
   },
   "outputs": [],
   "source": []
  }
 ],
 "metadata": {
  "kernelspec": {
   "display_name": "Python 2",
   "language": "python",
   "name": "python2"
  },
  "language_info": {
   "codemirror_mode": {
    "name": "ipython",
    "version": 2
   },
   "file_extension": ".py",
   "mimetype": "text/x-python",
   "name": "python",
   "nbconvert_exporter": "python",
   "pygments_lexer": "ipython2",
   "version": "2.7.10"
  }
 },
 "nbformat": 4,
 "nbformat_minor": 2
}
