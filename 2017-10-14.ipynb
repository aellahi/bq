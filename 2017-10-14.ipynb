{
 "cells": [
  {
   "cell_type": "code",
   "execution_count": 21,
   "metadata": {},
   "outputs": [],
   "source": [
    "import bq\n",
    "import collections\n",
    "import seaborn as sns\n",
    "import matplotlib.pyplot as plt\n",
    "import os\n",
    "import pandas as pd\n",
    "%matplotlib inline"
   ]
  },
  {
   "cell_type": "code",
   "execution_count": 30,
   "metadata": {},
   "outputs": [
    {
     "data": {
      "text/plain": [
       "'/Users/aishaellahi85/PythonCourse/pylib/:/Users/aishaellahi85/myPython_modules/:/Users/aishaellahi85/PycharmProjects/bq/'"
      ]
     },
     "execution_count": 30,
     "metadata": {},
     "output_type": "execute_result"
    }
   ],
   "source": [
    "reload(bq)\n",
    "os.environ['PYTHONPATH']"
   ]
  },
  {
   "cell_type": "code",
   "execution_count": 3,
   "metadata": {
    "collapsed": true
   },
   "outputs": [],
   "source": [
    "os.chdir('tcx_files/20171013/')"
   ]
  },
  {
   "cell_type": "code",
   "execution_count": 17,
   "metadata": {},
   "outputs": [
    {
     "name": "stdout",
     "output_type": "stream",
     "text": [
      "Error! Unable to read file:  20171014_track_splits_2107762437.csv\n",
      "Error! Unable to read file:  Activities.csv\n"
     ]
    }
   ],
   "source": [
    "# Parse tcx files \n",
    "run_data_list = []\n",
    "for tcx_file in os.listdir('.'):\n",
    "    metrics = bq.run_metrics(tcx_file)\n",
    "    if metrics:\n",
    "        run_data_list.append(metrics)\n",
    "        \n",
    "\n",
    "run_data = pd.DataFrame(run_data_list)\n",
    "run_data['start'] = pd.to_datetime(run_data['start'])"
   ]
  },
  {
   "cell_type": "code",
   "execution_count": 19,
   "metadata": {},
   "outputs": [
    {
     "data": {
      "text/plain": [
       "83.66570478406109"
      ]
     },
     "execution_count": 19,
     "metadata": {},
     "output_type": "execute_result"
    }
   ],
   "source": [
    "run_data['miles'].sum()"
   ]
  },
  {
   "cell_type": "code",
   "execution_count": 14,
   "metadata": {},
   "outputs": [
    {
     "name": "stdout",
     "output_type": "stream",
     "text": [
      "20170918_tempo_9966693219.tcx          20171002_tempo_2035750889.tcx\r\n",
      "20170920_tempo_10003739086.tcx         20171004_tempo_2041808880.tcx\r\n",
      "20170922_track_10033209411.tcx         20171006_track_activity_2052870182.tcx\r\n",
      "20170923_long_10050570875.tcx          20171008_long_2067747795.tcx\r\n",
      "20170925_tempo_10098354904.tcx         20171014_track_splits_2107762437.csv\r\n",
      "20170928_track_2015763725.tcx          20190927_tempo_2017695392.tcx\r\n",
      "20171001_long_2029795766.tcx           Activities.csv\r\n"
     ]
    }
   ],
   "source": [
    "!ls"
   ]
  },
  {
   "cell_type": "code",
   "execution_count": null,
   "metadata": {
    "collapsed": true
   },
   "outputs": [],
   "source": [
    "# Questions/ideas/things to plot:\n",
    "# What is the "
   ]
  },
  {
   "cell_type": "code",
   "execution_count": 32,
   "metadata": {},
   "outputs": [],
   "source": [
    "# previous run splits from older Fitbit Data\n",
    "test = '20171008_long_2067747795.tcx'\n",
    "laps = bq.return_laps(test)"
   ]
  },
  {
   "cell_type": "code",
   "execution_count": 33,
   "metadata": {},
   "outputs": [
    {
     "data": {
      "text/plain": [
       "11"
      ]
     },
     "execution_count": 33,
     "metadata": {},
     "output_type": "execute_result"
    }
   ],
   "source": [
    "len(laps)"
   ]
  },
  {
   "cell_type": "code",
   "execution_count": 35,
   "metadata": {},
   "outputs": [
    {
     "data": {
      "text/plain": [
       "[u'@StartTime',\n",
       " u'TotalTimeSeconds',\n",
       " u'DistanceMeters',\n",
       " u'MaximumSpeed',\n",
       " u'Calories',\n",
       " u'Intensity',\n",
       " u'TriggerMethod',\n",
       " u'Track',\n",
       " u'Extensions']"
      ]
     },
     "execution_count": 35,
     "metadata": {},
     "output_type": "execute_result"
    }
   ],
   "source": [
    "lap1 = laps[0]\n",
    "lap1.keys()"
   ]
  },
  {
   "cell_type": "code",
   "execution_count": null,
   "metadata": {
    "collapsed": true
   },
   "outputs": [],
   "source": []
  }
 ],
 "metadata": {
  "kernelspec": {
   "display_name": "Python 2",
   "language": "python",
   "name": "python2"
  },
  "language_info": {
   "codemirror_mode": {
    "name": "ipython",
    "version": 2
   },
   "file_extension": ".py",
   "mimetype": "text/x-python",
   "name": "python",
   "nbconvert_exporter": "python",
   "pygments_lexer": "ipython2",
   "version": "2.7.10"
  }
 },
 "nbformat": 4,
 "nbformat_minor": 2
}
