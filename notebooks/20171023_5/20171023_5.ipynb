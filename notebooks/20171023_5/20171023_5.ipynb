{
 "cells": [
  {
   "cell_type": "markdown",
   "metadata": {},
   "source": [
    "# Brainstorming\n",
    "\n",
    "Ideas for next post:\n",
    "* Run next mile interval at speed\n",
    "* parse track workout files.....for what? \n",
    "* What is an issue I am still trying to figure out?\n",
    "* Muscle soreness\n",
    "* Balancing muscle/weight gain with the need to fuel properly\n",
    "* Look up qualifying race course elevation"
   ]
  },
  {
   "cell_type": "code",
   "execution_count": 1,
   "metadata": {},
   "outputs": [],
   "source": [
    "import sys\n",
    "import pandas as pd\n",
    "import os\n",
    "\n",
    "bq_path = '/Users/aishaellahi/py2/bq'\n",
    "sys.path.append(bq_path)\n",
    "import bq\n",
    "\n",
    "os.chdir(\"marathon_tcx/\")"
   ]
  },
  {
   "cell_type": "code",
   "execution_count": 3,
   "metadata": {},
   "outputs": [],
   "source": [
    "bigsur_laps = bq.parse_lap_metrics(\"20170430_bigsurmarathon.tcx\")\n",
    "nvm_laps = bq.parse_lap_metrics(\"20150301_nvmmarathon.tcx\")"
   ]
  },
  {
   "cell_type": "code",
   "execution_count": 123,
   "metadata": {},
   "outputs": [
    {
     "data": {
      "text/plain": [
       "<module 'bq' from '/Users/aishaellahi/py2/bq/bq.py'>"
      ]
     },
     "execution_count": 123,
     "metadata": {},
     "output_type": "execute_result"
    }
   ],
   "source": [
    "reload(bq)"
   ]
  },
  {
   "cell_type": "code",
   "execution_count": 124,
   "metadata": {},
   "outputs": [],
   "source": [
    "x = bq.parse_lap_metrics(\"20150301_nvmmarathon.tcx\")"
   ]
  },
  {
   "cell_type": "code",
   "execution_count": 125,
   "metadata": {},
   "outputs": [
    {
     "data": {
      "text/plain": [
       "{'altitude_meters': u'112.61',\n",
       " 'distance_meters': u'0.0',\n",
       " 'position': OrderedDict([(u'LatitudeDegrees', u'38.58525621891022'),\n",
       "              (u'LongitudeDegrees', u'-122.57054662704468')]),\n",
       " 'time': u'2015-03-01T07:00:53.000-08:00'}"
      ]
     },
     "execution_count": 125,
     "metadata": {},
     "output_type": "execute_result"
    }
   ],
   "source": [
    "x[0]"
   ]
  },
  {
   "cell_type": "code",
   "execution_count": 17,
   "metadata": {},
   "outputs": [],
   "source": [
    "lap_df = pd.DataFrame(bigsur_laps)\n",
    "lap_df = lap_df[['run_type', 'run_start', 'lap_start', 'seconds', 'meters', 'start_meters',\n",
    "                'end_meters', 'start_altitude', 'end_altitude', 'average_cadence']]\n",
    "lap_df['run_start'] = pd.to_datetime(lap_df['run_start'])\n",
    "lap_df['lap_start'] = pd.to_datetime(lap_df['lap_start'])\n",
    "lap_df.sort_values(['run_start', 'lap_start', 'start_meters'], inplace=True)\n",
    "lap_df['minutes'] = lap_df['seconds'].apply(bq.seconds_to_minutes)\n",
    "lap_df['miles'] = lap_df['meters'].apply(bq.meters_to_miles)\n",
    "lap_df['min_per_mile'] = lap_df['minutes']/lap_df['miles']\n",
    "lap_df['alt_change'] = lap_df['end_altitude'] - lap_df['start_altitude']\n",
    "\n",
    "# Format 'run_start' to string for labeling\n",
    "datetime_index_df = pd.DatetimeIndex(lap_df['run_start']).normalize()\n",
    "lap_df['date'] = datetime_index_df.strftime('%D')"
   ]
  },
  {
   "cell_type": "code",
   "execution_count": 18,
   "metadata": {},
   "outputs": [
    {
     "data": {
      "text/html": [
       "<div>\n",
       "<style>\n",
       "    .dataframe thead tr:only-child th {\n",
       "        text-align: right;\n",
       "    }\n",
       "\n",
       "    .dataframe thead th {\n",
       "        text-align: left;\n",
       "    }\n",
       "\n",
       "    .dataframe tbody tr th {\n",
       "        vertical-align: top;\n",
       "    }\n",
       "</style>\n",
       "<table border=\"1\" class=\"dataframe\">\n",
       "  <thead>\n",
       "    <tr style=\"text-align: right;\">\n",
       "      <th></th>\n",
       "      <th>run_type</th>\n",
       "      <th>run_start</th>\n",
       "      <th>lap_start</th>\n",
       "      <th>seconds</th>\n",
       "      <th>meters</th>\n",
       "      <th>start_meters</th>\n",
       "      <th>end_meters</th>\n",
       "      <th>start_altitude</th>\n",
       "      <th>end_altitude</th>\n",
       "      <th>average_cadence</th>\n",
       "      <th>minutes</th>\n",
       "      <th>miles</th>\n",
       "      <th>min_per_mile</th>\n",
       "      <th>alt_change</th>\n",
       "      <th>date</th>\n",
       "    </tr>\n",
       "  </thead>\n",
       "  <tbody>\n",
       "    <tr>\n",
       "      <th>0</th>\n",
       "      <td>bigsurmarathon.tcx</td>\n",
       "      <td>2017-04-30 13:50:32</td>\n",
       "      <td>2017-04-30 13:50:32</td>\n",
       "      <td>533.0</td>\n",
       "      <td>1610.0</td>\n",
       "      <td>0.00</td>\n",
       "      <td>1601.50</td>\n",
       "      <td>None</td>\n",
       "      <td>None</td>\n",
       "      <td>None</td>\n",
       "      <td>8.883333</td>\n",
       "      <td>1.000408</td>\n",
       "      <td>8.879714</td>\n",
       "      <td>NaN</td>\n",
       "      <td>04/30/17</td>\n",
       "    </tr>\n",
       "    <tr>\n",
       "      <th>1</th>\n",
       "      <td>bigsurmarathon.tcx</td>\n",
       "      <td>2017-04-30 13:50:32</td>\n",
       "      <td>2017-04-30 13:59:25</td>\n",
       "      <td>531.0</td>\n",
       "      <td>1610.0</td>\n",
       "      <td>1601.50</td>\n",
       "      <td>3213.13</td>\n",
       "      <td>None</td>\n",
       "      <td>None</td>\n",
       "      <td>None</td>\n",
       "      <td>8.850000</td>\n",
       "      <td>1.000408</td>\n",
       "      <td>8.846394</td>\n",
       "      <td>NaN</td>\n",
       "      <td>04/30/17</td>\n",
       "    </tr>\n",
       "    <tr>\n",
       "      <th>2</th>\n",
       "      <td>bigsurmarathon.tcx</td>\n",
       "      <td>2017-04-30 13:50:32</td>\n",
       "      <td>2017-04-30 14:08:16</td>\n",
       "      <td>522.0</td>\n",
       "      <td>1610.0</td>\n",
       "      <td>3213.13</td>\n",
       "      <td>4827.13</td>\n",
       "      <td>None</td>\n",
       "      <td>None</td>\n",
       "      <td>None</td>\n",
       "      <td>8.700000</td>\n",
       "      <td>1.000408</td>\n",
       "      <td>8.696455</td>\n",
       "      <td>NaN</td>\n",
       "      <td>04/30/17</td>\n",
       "    </tr>\n",
       "    <tr>\n",
       "      <th>3</th>\n",
       "      <td>bigsurmarathon.tcx</td>\n",
       "      <td>2017-04-30 13:50:32</td>\n",
       "      <td>2017-04-30 14:16:58</td>\n",
       "      <td>498.0</td>\n",
       "      <td>1610.0</td>\n",
       "      <td>4827.13</td>\n",
       "      <td>6434.09</td>\n",
       "      <td>None</td>\n",
       "      <td>None</td>\n",
       "      <td>None</td>\n",
       "      <td>8.300000</td>\n",
       "      <td>1.000408</td>\n",
       "      <td>8.296618</td>\n",
       "      <td>NaN</td>\n",
       "      <td>04/30/17</td>\n",
       "    </tr>\n",
       "    <tr>\n",
       "      <th>4</th>\n",
       "      <td>bigsurmarathon.tcx</td>\n",
       "      <td>2017-04-30 13:50:32</td>\n",
       "      <td>2017-04-30 14:25:16</td>\n",
       "      <td>507.0</td>\n",
       "      <td>1610.0</td>\n",
       "      <td>6434.09</td>\n",
       "      <td>8047.57</td>\n",
       "      <td>None</td>\n",
       "      <td>None</td>\n",
       "      <td>None</td>\n",
       "      <td>8.450000</td>\n",
       "      <td>1.000408</td>\n",
       "      <td>8.446557</td>\n",
       "      <td>NaN</td>\n",
       "      <td>04/30/17</td>\n",
       "    </tr>\n",
       "  </tbody>\n",
       "</table>\n",
       "</div>"
      ],
      "text/plain": [
       "             run_type           run_start           lap_start  seconds  \\\n",
       "0  bigsurmarathon.tcx 2017-04-30 13:50:32 2017-04-30 13:50:32    533.0   \n",
       "1  bigsurmarathon.tcx 2017-04-30 13:50:32 2017-04-30 13:59:25    531.0   \n",
       "2  bigsurmarathon.tcx 2017-04-30 13:50:32 2017-04-30 14:08:16    522.0   \n",
       "3  bigsurmarathon.tcx 2017-04-30 13:50:32 2017-04-30 14:16:58    498.0   \n",
       "4  bigsurmarathon.tcx 2017-04-30 13:50:32 2017-04-30 14:25:16    507.0   \n",
       "\n",
       "   meters  start_meters  end_meters start_altitude end_altitude  \\\n",
       "0  1610.0          0.00     1601.50           None         None   \n",
       "1  1610.0       1601.50     3213.13           None         None   \n",
       "2  1610.0       3213.13     4827.13           None         None   \n",
       "3  1610.0       4827.13     6434.09           None         None   \n",
       "4  1610.0       6434.09     8047.57           None         None   \n",
       "\n",
       "  average_cadence   minutes     miles  min_per_mile alt_change      date  \n",
       "0            None  8.883333  1.000408      8.879714        NaN  04/30/17  \n",
       "1            None  8.850000  1.000408      8.846394        NaN  04/30/17  \n",
       "2            None  8.700000  1.000408      8.696455        NaN  04/30/17  \n",
       "3            None  8.300000  1.000408      8.296618        NaN  04/30/17  \n",
       "4            None  8.450000  1.000408      8.446557        NaN  04/30/17  "
      ]
     },
     "execution_count": 18,
     "metadata": {},
     "output_type": "execute_result"
    }
   ],
   "source": [
    "lap_df.head()"
   ]
  },
  {
   "cell_type": "code",
   "execution_count": 19,
   "metadata": {},
   "outputs": [],
   "source": [
    "# plot!\n",
    "%matplotlib inline\n",
    "import seaborn as sns\n",
    "import matplotlib.pyplot as plt"
   ]
  },
  {
   "cell_type": "code",
   "execution_count": 20,
   "metadata": {},
   "outputs": [
    {
     "data": {
      "image/png": "[encoded data removed]",
      "text/plain": [
       "<matplotlib.figure.Figure at 0x10e51f910>"
      ]
     },
     "metadata": {},
     "output_type": "display_data"
    }
   ],
   "source": [
    "plt.rcParams['figure.figsize'] = (12, 6)\n",
    "sns.pointplot(x=lap_df.index.tolist(), y=lap_df['min_per_mile'])\n",
    "plt.gca().spines['top'].set_visible(False)\n",
    "plt.gca().spines['right'].set_visible(False)"
   ]
  },
  {
   "cell_type": "markdown",
   "metadata": {},
   "source": [
    "## Another post idea\n",
    "\n",
    "Using cadence training to \"burn in\" a specific pace "
   ]
  },
  {
   "cell_type": "code",
   "execution_count": null,
   "metadata": {},
   "outputs": [],
   "source": []
  }
 ],
 "metadata": {
  "kernelspec": {
   "display_name": "Python 2",
   "language": "python",
   "name": "python2"
  },
  "language_info": {
   "codemirror_mode": {
    "name": "ipython",
    "version": 2
   },
   "file_extension": ".py",
   "mimetype": "text/x-python",
   "name": "python",
   "nbconvert_exporter": "python",
   "pygments_lexer": "ipython2",
   "version": "2.7.12"
  }
 },
 "nbformat": 4,
 "nbformat_minor": 2
}
