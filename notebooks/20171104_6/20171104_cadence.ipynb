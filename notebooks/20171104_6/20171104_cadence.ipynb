{
 "cells": [
  {
   "cell_type": "markdown",
   "metadata": {},
   "source": [
    "# Topic: Cadence!\n",
    "\n",
    "Question: What cadences should I am for in specific paces? I've decided on aiming for a 3:25 time to ensure that I can register. Garmin reports run cadence as a metric.\n",
    "\n",
    "**Method**\n",
    "1. Analyze track run intervals...and posssibly all other runs\n",
    "2. plot cadence by pace, cadence by altitude \n",
    "3. If linear relationship, good candidate for logistic regression\n",
    "\n",
    "Tie back to terrain of the qualifying race, Avenue of the Giants."
   ]
  },
  {
   "cell_type": "code",
   "execution_count": 227,
   "metadata": {},
   "outputs": [],
   "source": [
    "%matplotlib inline\n",
    "import pandas as pd\n",
    "import matplotlib.pyplot as plt\n",
    "import seaborn as sns\n",
    "import tcxparser \n",
    "import sys\n",
    "import os\n",
    "import numpy as np\n",
    "bq_path = '/Users/aishaellahi/py2/bq'\n",
    "sys.path.append(bq_path)\n",
    "import bq"
   ]
  },
  {
   "cell_type": "code",
   "execution_count": 228,
   "metadata": {},
   "outputs": [
    {
     "data": {
      "text/plain": [
       "<module 'bq' from '/Users/aishaellahi/py2/bq/bq.pyc'>"
      ]
     },
     "execution_count": 228,
     "metadata": {},
     "output_type": "execute_result"
    }
   ],
   "source": [
    "reload(bq)"
   ]
  },
  {
   "cell_type": "code",
   "execution_count": 229,
   "metadata": {},
   "outputs": [],
   "source": [
    "tcx_file_path = '/Users/aishaellahi/py2/bq/tcx'\n",
    "df_list = []\n",
    "for tcx_file in os.listdir(tcx_file_path):\n",
    "    if tcx_file.find('marathon') !=-1:\n",
    "        pass\n",
    "    else:\n",
    "        tcx_file = '/'.join([tcx_file_path,tcx_file])\n",
    "        #print('Parsing %s...') %tcx_file\n",
    "        test = bq.parse_lap_metrics(tcx_file)\n",
    "        df = pd.DataFrame(test)\n",
    "        df.sort_values(by='lap_start', inplace=True)\n",
    "        df['lap_start'] = pd.to_datetime(df['lap_start'])\n",
    "        index_list = []\n",
    "        for n, row in df.iterrows():\n",
    "            lapstart = row['lap_start'].strftime('%Y-%m-%d')\n",
    "            lap_num = str(n+1)\n",
    "            i = '_'.join([lap_num, lapstart])\n",
    "            index_list.append(i)\n",
    "        df['lap_index'] = pd.Series(index_list)\n",
    "        df_list.append(df)"
   ]
  },
  {
   "cell_type": "code",
   "execution_count": 230,
   "metadata": {},
   "outputs": [
    {
     "name": "stdout",
     "output_type": "stream",
     "text": [
      "(217, 11)\n"
     ]
    }
   ],
   "source": [
    "all_data = pd.concat(df_list)\n",
    "print(all_data.shape)"
   ]
  },
  {
   "cell_type": "code",
   "execution_count": 231,
   "metadata": {},
   "outputs": [],
   "source": [
    "all_data.rename(columns={'average_cadence':'half_cadence'}, inplace=True)"
   ]
  },
  {
   "cell_type": "code",
   "execution_count": 232,
   "metadata": {},
   "outputs": [
    {
     "data": {
      "text/html": [
       "<div>\n",
       "<style>\n",
       "    .dataframe thead tr:only-child th {\n",
       "        text-align: right;\n",
       "    }\n",
       "\n",
       "    .dataframe thead th {\n",
       "        text-align: left;\n",
       "    }\n",
       "\n",
       "    .dataframe tbody tr th {\n",
       "        vertical-align: top;\n",
       "    }\n",
       "</style>\n",
       "<table border=\"1\" class=\"dataframe\">\n",
       "  <thead>\n",
       "    <tr style=\"text-align: right;\">\n",
       "      <th></th>\n",
       "      <th>half_cadence</th>\n",
       "      <th>end_altitude</th>\n",
       "      <th>end_meters</th>\n",
       "      <th>lap_start</th>\n",
       "      <th>meters</th>\n",
       "      <th>run_start</th>\n",
       "      <th>run_type</th>\n",
       "      <th>seconds</th>\n",
       "      <th>start_altitude</th>\n",
       "      <th>start_meters</th>\n",
       "      <th>miles</th>\n",
       "      <th>minutes</th>\n",
       "      <th>pace</th>\n",
       "      <th>average_cadence</th>\n",
       "      <th>altitude_change</th>\n",
       "    </tr>\n",
       "    <tr>\n",
       "      <th>lap_index</th>\n",
       "      <th></th>\n",
       "      <th></th>\n",
       "      <th></th>\n",
       "      <th></th>\n",
       "      <th></th>\n",
       "      <th></th>\n",
       "      <th></th>\n",
       "      <th></th>\n",
       "      <th></th>\n",
       "      <th></th>\n",
       "      <th></th>\n",
       "      <th></th>\n",
       "      <th></th>\n",
       "      <th></th>\n",
       "      <th></th>\n",
       "    </tr>\n",
       "  </thead>\n",
       "  <tbody>\n",
       "    <tr>\n",
       "      <th>1_2017-09-27</th>\n",
       "      <td>92.0</td>\n",
       "      <td>NaN</td>\n",
       "      <td>1610.689941</td>\n",
       "      <td>2017-09-27 12:12:00</td>\n",
       "      <td>1609.34</td>\n",
       "      <td>2017-09-27T12:12:00.000Z</td>\n",
       "      <td>tempo</td>\n",
       "      <td>608.0</td>\n",
       "      <td>NaN</td>\n",
       "      <td>0.000000</td>\n",
       "      <td>0.999998</td>\n",
       "      <td>10.133333</td>\n",
       "      <td>10.133359</td>\n",
       "      <td>184.0</td>\n",
       "      <td>NaN</td>\n",
       "    </tr>\n",
       "    <tr>\n",
       "      <th>2_2017-09-27</th>\n",
       "      <td>94.0</td>\n",
       "      <td>83.800003</td>\n",
       "      <td>3221.219971</td>\n",
       "      <td>2017-09-27 12:22:13</td>\n",
       "      <td>1609.34</td>\n",
       "      <td>2017-09-27T12:12:00.000Z</td>\n",
       "      <td>tempo</td>\n",
       "      <td>530.0</td>\n",
       "      <td>58.799999</td>\n",
       "      <td>1631.459961</td>\n",
       "      <td>0.999998</td>\n",
       "      <td>8.833333</td>\n",
       "      <td>8.833355</td>\n",
       "      <td>188.0</td>\n",
       "      <td>-25.000004</td>\n",
       "    </tr>\n",
       "  </tbody>\n",
       "</table>\n",
       "</div>"
      ],
      "text/plain": [
       "              half_cadence  end_altitude   end_meters           lap_start  \\\n",
       "lap_index                                                                   \n",
       "1_2017-09-27          92.0           NaN  1610.689941 2017-09-27 12:12:00   \n",
       "2_2017-09-27          94.0     83.800003  3221.219971 2017-09-27 12:22:13   \n",
       "\n",
       "               meters                 run_start run_type  seconds  \\\n",
       "lap_index                                                           \n",
       "1_2017-09-27  1609.34  2017-09-27T12:12:00.000Z    tempo    608.0   \n",
       "2_2017-09-27  1609.34  2017-09-27T12:12:00.000Z    tempo    530.0   \n",
       "\n",
       "              start_altitude  start_meters     miles    minutes       pace  \\\n",
       "lap_index                                                                    \n",
       "1_2017-09-27             NaN      0.000000  0.999998  10.133333  10.133359   \n",
       "2_2017-09-27       58.799999   1631.459961  0.999998   8.833333   8.833355   \n",
       "\n",
       "              average_cadence  altitude_change  \n",
       "lap_index                                       \n",
       "1_2017-09-27            184.0              NaN  \n",
       "2_2017-09-27            188.0       -25.000004  "
      ]
     },
     "execution_count": 232,
     "metadata": {},
     "output_type": "execute_result"
    }
   ],
   "source": [
    "# data prepping...\n",
    "all_data['miles'] = all_data['meters'].apply(bq.meters_to_miles)\n",
    "all_data['minutes'] = all_data['seconds'].apply(bq.seconds_to_minutes)\n",
    "all_data['pace'] = all_data['minutes']/all_data['miles']\n",
    "all_data['average_cadence'] = all_data['half_cadence']*2\n",
    "all_data['altitude_change'] = all_data['start_altitude'] - all_data['end_altitude']\n",
    "all_data.sort_values(by='lap_start', inplace=True)\n",
    "all_data.set_index('lap_index', inplace=True)\n",
    "all_data.head(2)"
   ]
  },
  {
   "cell_type": "code",
   "execution_count": 233,
   "metadata": {},
   "outputs": [],
   "source": [
    "all_data['pace'] = all_data['pace'].astype(float)\n",
    "all_data['average_cadence'] = all_data['average_cadence'].astype(float)"
   ]
  },
  {
   "cell_type": "code",
   "execution_count": 94,
   "metadata": {},
   "outputs": [
    {
     "name": "stdout",
     "output_type": "stream",
     "text": [
      "[]\n",
      "0\n",
      "0\n"
     ]
    }
   ],
   "source": [
    "# Throw out weird outliers...\n",
    "ind_to_drop = all_data.loc[((all_data['pace'] > 10) | (all_data['pace'] < 5))].index.tolist()\n",
    "print(ind_to_drop)\n",
    "print(len(ind_to_drop))\n",
    "print(len(set(ind_to_drop)))\n",
    "all_data.drop(ind_to_drop, inplace=True)"
   ]
  },
  {
   "cell_type": "code",
   "execution_count": 121,
   "metadata": {},
   "outputs": [
    {
     "name": "stdout",
     "output_type": "stream",
     "text": [
      "8\n"
     ]
    }
   ],
   "source": [
    "# Drop all cadences below 170\n",
    "to_drop = all_data.loc[(all_data['average_cadence'] <= 170) | (all_data['miles'] < 0.25)].index.tolist()\n",
    "print(len(to_drop))\n",
    "all_data.drop(to_drop, inplace=True)"
   ]
  },
  {
   "cell_type": "code",
   "execution_count": 122,
   "metadata": {},
   "outputs": [
    {
     "name": "stdout",
     "output_type": "stream",
     "text": [
      "(133, 14)\n"
     ]
    }
   ],
   "source": [
    "print(all_data.shape)"
   ]
  },
  {
   "cell_type": "code",
   "execution_count": 146,
   "metadata": {},
   "outputs": [],
   "source": [
    "from scipy.stats import linregress\n",
    "\n",
    "\n",
    "\n",
    "def predicted_pace(x_val):\n",
    "    m, i, r, pval, stderr = linregress(all_data['average_cadence'], all_data['pace'])\n",
    "    y = m*x_val + i \n",
    "    return y\n",
    "\n",
    "\n",
    "x_vals = pd.Series(np.arange(177, 206))\n",
    "predicted_ys = x_vals.apply(predicted_pace)"
   ]
  },
  {
   "cell_type": "code",
   "execution_count": 159,
   "metadata": {},
   "outputs": [
    {
     "name": "stdout",
     "output_type": "stream",
     "text": [
      "slope: -0.0711858970061\n",
      "R-value: -0.438292564591\n"
     ]
    }
   ],
   "source": [
    "m, i, r, pval, stderr = linregress(all_data['average_cadence'], all_data['pace'])\n",
    "print('slope: %s') %str(m)\n",
    "print('R-value: %s') %str(r)"
   ]
  },
  {
   "cell_type": "code",
   "execution_count": 205,
   "metadata": {},
   "outputs": [],
   "source": [
    "run_type_filter = ['track']\n",
    "filtered_df = all_data.loc[all_data['run_type'].isin(run_type_filter)]"
   ]
  },
  {
   "cell_type": "code",
   "execution_count": 206,
   "metadata": {},
   "outputs": [
    {
     "data": {
      "image/png": "[encoded data removed]",
      "text/plain": [
       "<matplotlib.figure.Figure at 0x1143d1750>"
      ]
     },
     "metadata": {},
     "output_type": "display_data"
    }
   ],
   "source": [
    "# Test plot!\n",
    "from matplotlib.ticker import MultipleLocator \n",
    "\n",
    "sns.set_style('white')\n",
    "plt.rcParams['figure.figsize'] = (10,6)\n",
    "# salmon pink '#F5488F'\n",
    "plt.scatter(filtered_df['average_cadence'], filtered_df['pace'], alpha=0.55, edgecolor='white',\n",
    "           s=120)\n",
    "plt.plot(x_vals, predicted_ys, c='black', lw=1.5, linestyle='--')\n",
    "plt.xticks(np.arange(178, 206, 2), size=12)\n",
    "plt.yticks(np.arange(6, 10.5, 0.5), size=12)\n",
    "\n",
    "# set minor ticks\n",
    "mlx = MultipleLocator(1)\n",
    "plt.gca().axes.xaxis.set_minor_locator(mlx)\n",
    "plt.gca().axes.tick_params(axis='x', size=5, right='off', which='major')\n",
    "plt.gca().axes.tick_params(axis='x', size=3, right='off', which='minor')\n",
    "\n",
    "mly = MultipleLocator(0.25)\n",
    "plt.gca().axes.yaxis.set_minor_locator(mly)\n",
    "plt.gca().axes.tick_params(axis='y', size=5, right='off', which='major')\n",
    "plt.gca().axes.tick_params(axis='y', size=3, right='off', which='minor')\n",
    "\n",
    "# Format spines\n",
    "plt.gca().spines['right'].set_visible(False)\n",
    "plt.gca().spines['top'].set_visible(False)\n",
    "plt.gca().spines['left'].set_color('#766D71')\n",
    "plt.gca().spines['bottom'].set_color('#766D71')\n",
    "#plt.gca().spines['left'].linewidth = 3\n",
    "#plt.scatter(8.2, color='gray', linestyle='--', lw=1.5)\n",
    "plt.text(178, 9.5, 'R = -0.438', fontsize=15, style='oblique')\n",
    "plt.xlim(177, 205)\n",
    "plt.title(\"Garmin Pace vs. Cadence\", size=17)\n",
    "plt.ylabel('Pace (minutes/mile)', size=13)\n",
    "plt.xlabel('Cadence (spm)', size=13)\n",
    "plt.tight_layout()\n",
    "#plt.savefig('garmin_default_pace_vs_cadence.png')"
   ]
  },
  {
   "cell_type": "code",
   "execution_count": 198,
   "metadata": {},
   "outputs": [
    {
     "data": {
      "text/plain": [
       "Counter({'long': 30, 'tempo': 68, 'track': 35})"
      ]
     },
     "execution_count": 198,
     "metadata": {},
     "output_type": "execute_result"
    }
   ],
   "source": [
    "import collections\n",
    "collections.Counter(all_data['run_type'])"
   ]
  },
  {
   "cell_type": "code",
   "execution_count": 192,
   "metadata": {},
   "outputs": [
    {
     "data": {
      "text/plain": [
       "0.45"
      ]
     },
     "execution_count": 192,
     "metadata": {},
     "output_type": "execute_result"
    }
   ],
   "source": [
    "# tempo: 7.45 for 3:35 marathon time\n",
    "# speed: 7.0 for 3:35 marathon time\n",
    "\n",
    "# tempo: \n",
    "# speed:"
   ]
  },
  {
   "cell_type": "code",
   "execution_count": 222,
   "metadata": {},
   "outputs": [
    {
     "name": "stdout",
     "output_type": "stream",
     "text": [
      "7\n"
     ]
    },
    {
     "data": {
      "text/plain": [
       "array([180, 184, 188, 192, 196, 200, 204])"
      ]
     },
     "execution_count": 222,
     "metadata": {},
     "output_type": "execute_result"
    }
   ],
   "source": [
    "test_cadences = np.arange(180, 206, 4)\n",
    "print len(test_cadences)\n",
    "test_cadences"
   ]
  },
  {
   "cell_type": "code",
   "execution_count": 118,
   "metadata": {},
   "outputs": [
    {
     "data": {
      "text/html": [
       "<div>\n",
       "<style>\n",
       "    .dataframe thead tr:only-child th {\n",
       "        text-align: right;\n",
       "    }\n",
       "\n",
       "    .dataframe thead th {\n",
       "        text-align: left;\n",
       "    }\n",
       "\n",
       "    .dataframe tbody tr th {\n",
       "        vertical-align: top;\n",
       "    }\n",
       "</style>\n",
       "<table border=\"1\" class=\"dataframe\">\n",
       "  <thead>\n",
       "    <tr style=\"text-align: right;\">\n",
       "      <th></th>\n",
       "      <th>run_type</th>\n",
       "      <th>meters</th>\n",
       "      <th>seconds</th>\n",
       "      <th>miles</th>\n",
       "      <th>minutes</th>\n",
       "    </tr>\n",
       "    <tr>\n",
       "      <th>lap_index</th>\n",
       "      <th></th>\n",
       "      <th></th>\n",
       "      <th></th>\n",
       "      <th></th>\n",
       "      <th></th>\n",
       "    </tr>\n",
       "  </thead>\n",
       "  <tbody>\n",
       "    <tr>\n",
       "      <th>7_2017-10-14</th>\n",
       "      <td>track</td>\n",
       "      <td>24.20</td>\n",
       "      <td>6.0</td>\n",
       "      <td>0.015037</td>\n",
       "      <td>0.100000</td>\n",
       "    </tr>\n",
       "    <tr>\n",
       "      <th>4_2017-10-14</th>\n",
       "      <td>track</td>\n",
       "      <td>26.86</td>\n",
       "      <td>8.0</td>\n",
       "      <td>0.016690</td>\n",
       "      <td>0.133333</td>\n",
       "    </tr>\n",
       "    <tr>\n",
       "      <th>10_2017-10-14</th>\n",
       "      <td>track</td>\n",
       "      <td>58.30</td>\n",
       "      <td>12.0</td>\n",
       "      <td>0.036226</td>\n",
       "      <td>0.200000</td>\n",
       "    </tr>\n",
       "    <tr>\n",
       "      <th>6_2017-10-20</th>\n",
       "      <td>tempo</td>\n",
       "      <td>202.48</td>\n",
       "      <td>58.0</td>\n",
       "      <td>0.125815</td>\n",
       "      <td>0.966667</td>\n",
       "    </tr>\n",
       "    <tr>\n",
       "      <th>12_2017-10-06</th>\n",
       "      <td>track</td>\n",
       "      <td>247.85</td>\n",
       "      <td>86.0</td>\n",
       "      <td>0.154007</td>\n",
       "      <td>1.433333</td>\n",
       "    </tr>\n",
       "    <tr>\n",
       "      <th>4_2017-10-06</th>\n",
       "      <td>track</td>\n",
       "      <td>271.24</td>\n",
       "      <td>87.0</td>\n",
       "      <td>0.168541</td>\n",
       "      <td>1.450000</td>\n",
       "    </tr>\n",
       "    <tr>\n",
       "      <th>14_2017-10-06</th>\n",
       "      <td>track</td>\n",
       "      <td>295.54</td>\n",
       "      <td>87.0</td>\n",
       "      <td>0.183640</td>\n",
       "      <td>1.450000</td>\n",
       "    </tr>\n",
       "    <tr>\n",
       "      <th>4_2017-10-27</th>\n",
       "      <td>tempo</td>\n",
       "      <td>382.64</td>\n",
       "      <td>116.0</td>\n",
       "      <td>0.237761</td>\n",
       "      <td>1.933333</td>\n",
       "    </tr>\n",
       "    <tr>\n",
       "      <th>1_2017-10-20</th>\n",
       "      <td>track</td>\n",
       "      <td>409.86</td>\n",
       "      <td>118.0</td>\n",
       "      <td>0.254675</td>\n",
       "      <td>1.966667</td>\n",
       "    </tr>\n",
       "    <tr>\n",
       "      <th>11_2017-10-14</th>\n",
       "      <td>track</td>\n",
       "      <td>474.62</td>\n",
       "      <td>155.0</td>\n",
       "      <td>0.294915</td>\n",
       "      <td>2.583333</td>\n",
       "    </tr>\n",
       "  </tbody>\n",
       "</table>\n",
       "</div>"
      ],
      "text/plain": [
       "              run_type  meters  seconds     miles   minutes\n",
       "lap_index                                                  \n",
       "7_2017-10-14     track   24.20      6.0  0.015037  0.100000\n",
       "4_2017-10-14     track   26.86      8.0  0.016690  0.133333\n",
       "10_2017-10-14    track   58.30     12.0  0.036226  0.200000\n",
       "6_2017-10-20     tempo  202.48     58.0  0.125815  0.966667\n",
       "12_2017-10-06    track  247.85     86.0  0.154007  1.433333\n",
       "4_2017-10-06     track  271.24     87.0  0.168541  1.450000\n",
       "14_2017-10-06    track  295.54     87.0  0.183640  1.450000\n",
       "4_2017-10-27     tempo  382.64    116.0  0.237761  1.933333\n",
       "1_2017-10-20     track  409.86    118.0  0.254675  1.966667\n",
       "11_2017-10-14    track  474.62    155.0  0.294915  2.583333"
      ]
     },
     "execution_count": 118,
     "metadata": {},
     "output_type": "execute_result"
    }
   ],
   "source": [
    "cols_to_show = ['run_type', 'meters', 'seconds', 'miles', 'minutes']\n",
    "sorted_data = all_data.sort_values(by='miles')\n",
    "sorted_data[cols_to_show].head(10)"
   ]
  },
  {
   "cell_type": "code",
   "execution_count": 214,
   "metadata": {},
   "outputs": [
    {
     "data": {
      "text/html": [
       "<div>\n",
       "<style>\n",
       "    .dataframe thead tr:only-child th {\n",
       "        text-align: right;\n",
       "    }\n",
       "\n",
       "    .dataframe thead th {\n",
       "        text-align: left;\n",
       "    }\n",
       "\n",
       "    .dataframe tbody tr th {\n",
       "        vertical-align: top;\n",
       "    }\n",
       "</style>\n",
       "<table border=\"1\" class=\"dataframe\">\n",
       "  <thead>\n",
       "    <tr>\n",
       "      <th></th>\n",
       "      <th></th>\n",
       "      <th colspan=\"4\" halign=\"left\">pace</th>\n",
       "    </tr>\n",
       "    <tr>\n",
       "      <th></th>\n",
       "      <th></th>\n",
       "      <th>count</th>\n",
       "      <th>mean</th>\n",
       "      <th>std</th>\n",
       "      <th>variation</th>\n",
       "    </tr>\n",
       "    <tr>\n",
       "      <th>average_cadence</th>\n",
       "      <th>distance_bin</th>\n",
       "      <th></th>\n",
       "      <th></th>\n",
       "      <th></th>\n",
       "      <th></th>\n",
       "    </tr>\n",
       "  </thead>\n",
       "  <tbody>\n",
       "    <tr>\n",
       "      <th>180.0</th>\n",
       "      <th>(0.25, 0.5]</th>\n",
       "      <td>1</td>\n",
       "      <td>8.759580</td>\n",
       "      <td>NaN</td>\n",
       "      <td>0.000000</td>\n",
       "    </tr>\n",
       "    <tr>\n",
       "      <th>182.0</th>\n",
       "      <th>(0.25, 0.5]</th>\n",
       "      <td>1</td>\n",
       "      <td>8.744558</td>\n",
       "      <td>NaN</td>\n",
       "      <td>0.000000</td>\n",
       "    </tr>\n",
       "    <tr>\n",
       "      <th rowspan=\"3\" valign=\"top\">184.0</th>\n",
       "      <th>(0.25, 0.5]</th>\n",
       "      <td>2</td>\n",
       "      <td>7.661486</td>\n",
       "      <td>0.324496</td>\n",
       "      <td>0.029949</td>\n",
       "    </tr>\n",
       "    <tr>\n",
       "      <th>(0.5, 0.75]</th>\n",
       "      <td>1</td>\n",
       "      <td>9.092495</td>\n",
       "      <td>NaN</td>\n",
       "      <td>0.000000</td>\n",
       "    </tr>\n",
       "    <tr>\n",
       "      <th>(0.75, 1.0]</th>\n",
       "      <td>9</td>\n",
       "      <td>8.808297</td>\n",
       "      <td>0.545550</td>\n",
       "      <td>0.058394</td>\n",
       "    </tr>\n",
       "    <tr>\n",
       "      <th rowspan=\"2\" valign=\"top\">186.0</th>\n",
       "      <th>(0.25, 0.5]</th>\n",
       "      <td>3</td>\n",
       "      <td>8.842147</td>\n",
       "      <td>0.213276</td>\n",
       "      <td>0.019694</td>\n",
       "    </tr>\n",
       "    <tr>\n",
       "      <th>(0.75, 1.0]</th>\n",
       "      <td>23</td>\n",
       "      <td>8.550746</td>\n",
       "      <td>0.445814</td>\n",
       "      <td>0.050991</td>\n",
       "    </tr>\n",
       "    <tr>\n",
       "      <th rowspan=\"3\" valign=\"top\">188.0</th>\n",
       "      <th>(0.25, 0.5]</th>\n",
       "      <td>1</td>\n",
       "      <td>7.691565</td>\n",
       "      <td>NaN</td>\n",
       "      <td>0.000000</td>\n",
       "    </tr>\n",
       "    <tr>\n",
       "      <th>(0.5, 0.75]</th>\n",
       "      <td>2</td>\n",
       "      <td>8.318127</td>\n",
       "      <td>0.564860</td>\n",
       "      <td>0.048018</td>\n",
       "    </tr>\n",
       "    <tr>\n",
       "      <th>(0.75, 1.0]</th>\n",
       "      <td>23</td>\n",
       "      <td>8.433276</td>\n",
       "      <td>0.459886</td>\n",
       "      <td>0.053334</td>\n",
       "    </tr>\n",
       "    <tr>\n",
       "      <th rowspan=\"3\" valign=\"top\">190.0</th>\n",
       "      <th>(0.25, 0.5]</th>\n",
       "      <td>2</td>\n",
       "      <td>7.810350</td>\n",
       "      <td>0.124585</td>\n",
       "      <td>0.011279</td>\n",
       "    </tr>\n",
       "    <tr>\n",
       "      <th>(0.5, 0.75]</th>\n",
       "      <td>2</td>\n",
       "      <td>7.662979</td>\n",
       "      <td>0.279162</td>\n",
       "      <td>0.025760</td>\n",
       "    </tr>\n",
       "    <tr>\n",
       "      <th>(0.75, 1.0]</th>\n",
       "      <td>23</td>\n",
       "      <td>8.470723</td>\n",
       "      <td>0.476590</td>\n",
       "      <td>0.055026</td>\n",
       "    </tr>\n",
       "    <tr>\n",
       "      <th>192.0</th>\n",
       "      <th>(0.75, 1.0]</th>\n",
       "      <td>12</td>\n",
       "      <td>8.561132</td>\n",
       "      <td>0.336826</td>\n",
       "      <td>0.037669</td>\n",
       "    </tr>\n",
       "    <tr>\n",
       "      <th rowspan=\"2\" valign=\"top\">194.0</th>\n",
       "      <th>(0.25, 0.5]</th>\n",
       "      <td>1</td>\n",
       "      <td>6.874413</td>\n",
       "      <td>NaN</td>\n",
       "      <td>0.000000</td>\n",
       "    </tr>\n",
       "    <tr>\n",
       "      <th>(0.75, 1.0]</th>\n",
       "      <td>6</td>\n",
       "      <td>8.086131</td>\n",
       "      <td>0.720296</td>\n",
       "      <td>0.081317</td>\n",
       "    </tr>\n",
       "    <tr>\n",
       "      <th rowspan=\"2\" valign=\"top\">196.0</th>\n",
       "      <th>(0.25, 0.5]</th>\n",
       "      <td>1</td>\n",
       "      <td>8.281416</td>\n",
       "      <td>NaN</td>\n",
       "      <td>0.000000</td>\n",
       "    </tr>\n",
       "    <tr>\n",
       "      <th>(0.75, 1.0]</th>\n",
       "      <td>5</td>\n",
       "      <td>8.223354</td>\n",
       "      <td>0.692682</td>\n",
       "      <td>0.075341</td>\n",
       "    </tr>\n",
       "    <tr>\n",
       "      <th rowspan=\"3\" valign=\"top\">198.0</th>\n",
       "      <th>(0.25, 0.5]</th>\n",
       "      <td>2</td>\n",
       "      <td>6.638544</td>\n",
       "      <td>0.284495</td>\n",
       "      <td>0.030303</td>\n",
       "    </tr>\n",
       "    <tr>\n",
       "      <th>(0.5, 0.75]</th>\n",
       "      <td>4</td>\n",
       "      <td>7.338181</td>\n",
       "      <td>1.315529</td>\n",
       "      <td>0.155254</td>\n",
       "    </tr>\n",
       "    <tr>\n",
       "      <th>(0.75, 1.0]</th>\n",
       "      <td>4</td>\n",
       "      <td>7.620345</td>\n",
       "      <td>1.478321</td>\n",
       "      <td>0.168006</td>\n",
       "    </tr>\n",
       "    <tr>\n",
       "      <th>200.0</th>\n",
       "      <th>(0.25, 0.5]</th>\n",
       "      <td>3</td>\n",
       "      <td>7.677912</td>\n",
       "      <td>1.425236</td>\n",
       "      <td>0.151565</td>\n",
       "    </tr>\n",
       "  </tbody>\n",
       "</table>\n",
       "</div>"
      ],
      "text/plain": [
       "                              pace                              \n",
       "                             count      mean       std variation\n",
       "average_cadence distance_bin                                    \n",
       "180.0           (0.25, 0.5]      1  8.759580       NaN  0.000000\n",
       "182.0           (0.25, 0.5]      1  8.744558       NaN  0.000000\n",
       "184.0           (0.25, 0.5]      2  7.661486  0.324496  0.029949\n",
       "                (0.5, 0.75]      1  9.092495       NaN  0.000000\n",
       "                (0.75, 1.0]      9  8.808297  0.545550  0.058394\n",
       "186.0           (0.25, 0.5]      3  8.842147  0.213276  0.019694\n",
       "                (0.75, 1.0]     23  8.550746  0.445814  0.050991\n",
       "188.0           (0.25, 0.5]      1  7.691565       NaN  0.000000\n",
       "                (0.5, 0.75]      2  8.318127  0.564860  0.048018\n",
       "                (0.75, 1.0]     23  8.433276  0.459886  0.053334\n",
       "190.0           (0.25, 0.5]      2  7.810350  0.124585  0.011279\n",
       "                (0.5, 0.75]      2  7.662979  0.279162  0.025760\n",
       "                (0.75, 1.0]     23  8.470723  0.476590  0.055026\n",
       "192.0           (0.75, 1.0]     12  8.561132  0.336826  0.037669\n",
       "194.0           (0.25, 0.5]      1  6.874413       NaN  0.000000\n",
       "                (0.75, 1.0]      6  8.086131  0.720296  0.081317\n",
       "196.0           (0.25, 0.5]      1  8.281416       NaN  0.000000\n",
       "                (0.75, 1.0]      5  8.223354  0.692682  0.075341\n",
       "198.0           (0.25, 0.5]      2  6.638544  0.284495  0.030303\n",
       "                (0.5, 0.75]      4  7.338181  1.315529  0.155254\n",
       "                (0.75, 1.0]      4  7.620345  1.478321  0.168006\n",
       "200.0           (0.25, 0.5]      3  7.677912  1.425236  0.151565"
      ]
     },
     "execution_count": 214,
     "metadata": {},
     "output_type": "execute_result"
    }
   ],
   "source": [
    "from scipy.stats import variation\n",
    "\n",
    "# Bin intervals by interval distance\n",
    "all_data['distance_bin'] = pd.cut(all_data['miles'], bins=np.arange(0, 1.1, 0.25))\n",
    "grouped = all_data[['average_cadence', \n",
    "                    'distance_bin', \n",
    "                    'pace']].groupby(['average_cadence', \n",
    "                                    'distance_bin']).aggregate(['count', \n",
    "                                                                np.mean,\n",
    "                                                                np.std,\n",
    "                                                                variation])\n",
    "grouped"
   ]
  },
  {
   "cell_type": "code",
   "execution_count": 223,
   "metadata": {},
   "outputs": [],
   "source": [
    "# explore the data\n",
    "\n",
    "#sns.distplot(all_data['average_cadence'], kde=False, bins=np.arange(165, 203, 1))\n",
    "#sns.jointplot(all_data['average_cadence'], all_data['pace'], kind='hex')"
   ]
  },
  {
   "cell_type": "markdown",
   "metadata": {},
   "source": [
    "## 2017-11-05 The Grand Cadence Experiment"
   ]
  },
  {
   "cell_type": "code",
   "execution_count": 242,
   "metadata": {},
   "outputs": [],
   "source": [
    "all_data['miles'] = all_data['miles'].round(1)"
   ]
  },
  {
   "cell_type": "code",
   "execution_count": 293,
   "metadata": {},
   "outputs": [],
   "source": [
    "# filter out \"Grand Experiment Data\"\n",
    "cadence_exp_ind = ['1_2017-11-05',\n",
    " '2_2017-11-05',\n",
    " '3_2017-11-05',\n",
    " '4_2017-11-05',\n",
    " '5_2017-11-05',\n",
    " '6_2017-11-05',\n",
    " '7_2017-11-05',\n",
    " '8_2017-11-05',\n",
    " '9_2017-11-05',\n",
    " '10_2017-11-05',\n",
    " '11_2017-11-05',\n",
    " '12_2017-11-05',\n",
    " '13_2017-11-05',\n",
    " '14_2017-11-05',\n",
    " '15_2017-11-05',\n",
    " '16_2017-11-05',\n",
    " '17_2017-11-05',\n",
    " '18_2017-11-05',\n",
    " '19_2017-11-05',\n",
    " '20_2017-11-05',\n",
    " '21_2017-11-05',\n",
    " '22_2017-11-05',\n",
    " '23_2017-11-05',\n",
    " '24_2017-11-05',\n",
    " '25_2017-11-05',\n",
    " '26_2017-11-05',\n",
    " '27_2017-11-05',\n",
    " '28_2017-11-05',\n",
    " '29_2017-11-05',\n",
    " '30_2017-11-05',\n",
    " '31_2017-11-05',\n",
    " '32_2017-11-05',\n",
    " '33_2017-11-05',\n",
    " '34_2017-11-05',\n",
    " '35_2017-11-05',\n",
    " '36_2017-11-05']\n",
    "cadence_experiment = all_data.loc[cadence_exp_ind].copy()"
   ]
  },
  {
   "cell_type": "code",
   "execution_count": 294,
   "metadata": {},
   "outputs": [
    {
     "data": {
      "text/plain": [
       "(36, 15)"
      ]
     },
     "execution_count": 294,
     "metadata": {},
     "output_type": "execute_result"
    }
   ],
   "source": [
    "cadence_experiment.shape"
   ]
  },
  {
   "cell_type": "code",
   "execution_count": 295,
   "metadata": {},
   "outputs": [
    {
     "data": {
      "text/plain": [
       "(16, 15)"
      ]
     },
     "execution_count": 295,
     "metadata": {},
     "output_type": "execute_result"
    }
   ],
   "source": [
    "# Columns to add once I pull out actual intervals: \n",
    "# target cadence: \n",
    "cadence_exp_intervals = cadence_experiment.loc[cadence_experiment['miles']==0.5]\n",
    "cadence_exp_intervals.shape"
   ]
  },
  {
   "cell_type": "code",
   "execution_count": 296,
   "metadata": {},
   "outputs": [
    {
     "name": "stderr",
     "output_type": "stream",
     "text": [
      "/Users/aishaellahi/.pyenv/versions/2.7.12/lib/python2.7/site-packages/ipykernel_launcher.py:3: SettingWithCopyWarning: \n",
      "A value is trying to be set on a copy of a slice from a DataFrame.\n",
      "Try using .loc[row_indexer,col_indexer] = value instead\n",
      "\n",
      "See the caveats in the documentation: http://pandas.pydata.org/pandas-docs/stable/indexing.html#indexing-view-versus-copy\n",
      "  This is separate from the ipykernel package so we can avoid doing imports until\n",
      "/Users/aishaellahi/.pyenv/versions/2.7.12/lib/python2.7/site-packages/ipykernel_launcher.py:6: SettingWithCopyWarning: \n",
      "A value is trying to be set on a copy of a slice from a DataFrame.\n",
      "Try using .loc[row_indexer,col_indexer] = value instead\n",
      "\n",
      "See the caveats in the documentation: http://pandas.pydata.org/pandas-docs/stable/indexing.html#indexing-view-versus-copy\n",
      "  \n"
     ]
    },
    {
     "data": {
      "text/plain": [
       "Counter({180: 2, 184: 2, 188: 2, 192: 2, 196: 2, 200: 2, 204: 2, 208: 2})"
      ]
     },
     "execution_count": 296,
     "metadata": {},
     "output_type": "execute_result"
    }
   ],
   "source": [
    "#cadence_exp_intervals.reset_index(inplace=True)\n",
    "test_cadences = np.arange(180, 210, 4)\n",
    "cadence_exp_intervals['target_cadence'] = pd.Series(np.repeat(test_cadences, 2))\n",
    "# mark replicates\n",
    "rep = [1, 2]*16\n",
    "cadence_exp_intervals['replicate'] = pd.Series(rep)\n",
    "collections.Counter(cadence_exp_intervals['target_cadence'])"
   ]
  },
  {
   "cell_type": "code",
   "execution_count": 297,
   "metadata": {},
   "outputs": [
    {
     "data": {
      "text/html": [
       "<div>\n",
       "<style>\n",
       "    .dataframe thead tr:only-child th {\n",
       "        text-align: right;\n",
       "    }\n",
       "\n",
       "    .dataframe thead th {\n",
       "        text-align: left;\n",
       "    }\n",
       "\n",
       "    .dataframe tbody tr th {\n",
       "        vertical-align: top;\n",
       "    }\n",
       "</style>\n",
       "<table border=\"1\" class=\"dataframe\">\n",
       "  <thead>\n",
       "    <tr style=\"text-align: right;\">\n",
       "      <th></th>\n",
       "      <th>lap_index</th>\n",
       "      <th>half_cadence</th>\n",
       "      <th>end_altitude</th>\n",
       "      <th>end_meters</th>\n",
       "      <th>lap_start</th>\n",
       "      <th>meters</th>\n",
       "      <th>run_start</th>\n",
       "      <th>run_type</th>\n",
       "      <th>seconds</th>\n",
       "      <th>start_altitude</th>\n",
       "      <th>start_meters</th>\n",
       "      <th>miles</th>\n",
       "      <th>minutes</th>\n",
       "      <th>pace</th>\n",
       "      <th>average_cadence</th>\n",
       "      <th>altitude_change</th>\n",
       "      <th>target_cadence</th>\n",
       "      <th>replicate</th>\n",
       "    </tr>\n",
       "  </thead>\n",
       "  <tbody>\n",
       "    <tr>\n",
       "      <th>11</th>\n",
       "      <td>26_2017-11-05</td>\n",
       "      <td>99.0</td>\n",
       "      <td>2.8</td>\n",
       "      <td>15332.889648</td>\n",
       "      <td>2017-11-05 18:27:16</td>\n",
       "      <td>804.67</td>\n",
       "      <td>2017-11-05T17:05:31.000Z</td>\n",
       "      <td>long</td>\n",
       "      <td>218.0</td>\n",
       "      <td>1.4</td>\n",
       "      <td>14549.530273</td>\n",
       "      <td>0.5</td>\n",
       "      <td>3.633333</td>\n",
       "      <td>7.266685</td>\n",
       "      <td>198.0</td>\n",
       "      <td>-1.4</td>\n",
       "      <td>200</td>\n",
       "      <td>2</td>\n",
       "    </tr>\n",
       "    <tr>\n",
       "      <th>12</th>\n",
       "      <td>28_2017-11-05</td>\n",
       "      <td>98.0</td>\n",
       "      <td>1.2</td>\n",
       "      <td>16264.980469</td>\n",
       "      <td>2017-11-05 18:31:57</td>\n",
       "      <td>804.67</td>\n",
       "      <td>2017-11-05T17:05:31.000Z</td>\n",
       "      <td>long</td>\n",
       "      <td>215.0</td>\n",
       "      <td>3.0</td>\n",
       "      <td>15482.150391</td>\n",
       "      <td>0.5</td>\n",
       "      <td>3.583333</td>\n",
       "      <td>7.166684</td>\n",
       "      <td>196.0</td>\n",
       "      <td>1.8</td>\n",
       "      <td>204</td>\n",
       "      <td>1</td>\n",
       "    </tr>\n",
       "    <tr>\n",
       "      <th>13</th>\n",
       "      <td>30_2017-11-05</td>\n",
       "      <td>99.0</td>\n",
       "      <td>1.8</td>\n",
       "      <td>17230.820312</td>\n",
       "      <td>2017-11-05 18:37:38</td>\n",
       "      <td>804.67</td>\n",
       "      <td>2017-11-05T17:05:31.000Z</td>\n",
       "      <td>long</td>\n",
       "      <td>216.0</td>\n",
       "      <td>1.2</td>\n",
       "      <td>16448.179688</td>\n",
       "      <td>0.5</td>\n",
       "      <td>3.600000</td>\n",
       "      <td>7.200018</td>\n",
       "      <td>198.0</td>\n",
       "      <td>-0.6</td>\n",
       "      <td>204</td>\n",
       "      <td>2</td>\n",
       "    </tr>\n",
       "    <tr>\n",
       "      <th>14</th>\n",
       "      <td>32_2017-11-05</td>\n",
       "      <td>98.0</td>\n",
       "      <td>1.6</td>\n",
       "      <td>18189.859375</td>\n",
       "      <td>2017-11-05 18:43:23</td>\n",
       "      <td>804.67</td>\n",
       "      <td>2017-11-05T17:05:31.000Z</td>\n",
       "      <td>long</td>\n",
       "      <td>367.0</td>\n",
       "      <td>2.8</td>\n",
       "      <td>17407.820312</td>\n",
       "      <td>0.5</td>\n",
       "      <td>6.116667</td>\n",
       "      <td>12.233364</td>\n",
       "      <td>196.0</td>\n",
       "      <td>1.2</td>\n",
       "      <td>208</td>\n",
       "      <td>1</td>\n",
       "    </tr>\n",
       "    <tr>\n",
       "      <th>15</th>\n",
       "      <td>34_2017-11-05</td>\n",
       "      <td>99.0</td>\n",
       "      <td>2.0</td>\n",
       "      <td>19164.349609</td>\n",
       "      <td>2017-11-05 18:50:33</td>\n",
       "      <td>804.67</td>\n",
       "      <td>2017-11-05T17:05:31.000Z</td>\n",
       "      <td>long</td>\n",
       "      <td>214.0</td>\n",
       "      <td>0.6</td>\n",
       "      <td>18382.490234</td>\n",
       "      <td>0.5</td>\n",
       "      <td>3.566667</td>\n",
       "      <td>7.133351</td>\n",
       "      <td>198.0</td>\n",
       "      <td>-1.4</td>\n",
       "      <td>208</td>\n",
       "      <td>2</td>\n",
       "    </tr>\n",
       "  </tbody>\n",
       "</table>\n",
       "</div>"
      ],
      "text/plain": [
       "        lap_index  half_cadence  end_altitude    end_meters  \\\n",
       "11  26_2017-11-05          99.0           2.8  15332.889648   \n",
       "12  28_2017-11-05          98.0           1.2  16264.980469   \n",
       "13  30_2017-11-05          99.0           1.8  17230.820312   \n",
       "14  32_2017-11-05          98.0           1.6  18189.859375   \n",
       "15  34_2017-11-05          99.0           2.0  19164.349609   \n",
       "\n",
       "             lap_start  meters                 run_start run_type  seconds  \\\n",
       "11 2017-11-05 18:27:16  804.67  2017-11-05T17:05:31.000Z     long    218.0   \n",
       "12 2017-11-05 18:31:57  804.67  2017-11-05T17:05:31.000Z     long    215.0   \n",
       "13 2017-11-05 18:37:38  804.67  2017-11-05T17:05:31.000Z     long    216.0   \n",
       "14 2017-11-05 18:43:23  804.67  2017-11-05T17:05:31.000Z     long    367.0   \n",
       "15 2017-11-05 18:50:33  804.67  2017-11-05T17:05:31.000Z     long    214.0   \n",
       "\n",
       "    start_altitude  start_meters  miles   minutes       pace  average_cadence  \\\n",
       "11             1.4  14549.530273    0.5  3.633333   7.266685            198.0   \n",
       "12             3.0  15482.150391    0.5  3.583333   7.166684            196.0   \n",
       "13             1.2  16448.179688    0.5  3.600000   7.200018            198.0   \n",
       "14             2.8  17407.820312    0.5  6.116667  12.233364            196.0   \n",
       "15             0.6  18382.490234    0.5  3.566667   7.133351            198.0   \n",
       "\n",
       "    altitude_change  target_cadence  replicate  \n",
       "11             -1.4             200          2  \n",
       "12              1.8             204          1  \n",
       "13             -0.6             204          2  \n",
       "14              1.2             208          1  \n",
       "15             -1.4             208          2  "
      ]
     },
     "execution_count": 297,
     "metadata": {},
     "output_type": "execute_result"
    }
   ],
   "source": [
    "cadence_exp_intervals.tail()"
   ]
  },
  {
   "cell_type": "code",
   "execution_count": 298,
   "metadata": {},
   "outputs": [
    {
     "name": "stderr",
     "output_type": "stream",
     "text": [
      "/Users/aishaellahi/.pyenv/versions/2.7.12/lib/python2.7/site-packages/ipykernel_launcher.py:2: SettingWithCopyWarning: \n",
      "A value is trying to be set on a copy of a slice from a DataFrame\n",
      "\n",
      "See the caveats in the documentation: http://pandas.pydata.org/pandas-docs/stable/indexing.html#indexing-view-versus-copy\n",
      "  \n"
     ]
    }
   ],
   "source": [
    "# drop random outlier! (1 of the 208 cadence replicates)\n",
    "cadence_exp_intervals.drop([14], inplace=True)"
   ]
  },
  {
   "cell_type": "code",
   "execution_count": 299,
   "metadata": {},
   "outputs": [
    {
     "data": {
      "image/png": "[encoded data removed]",
      "text/plain": [
       "<matplotlib.figure.Figure at 0x113015d50>"
      ]
     },
     "metadata": {},
     "output_type": "display_data"
    }
   ],
   "source": [
    "from matplotlib.ticker import MultipleLocator \n",
    "\n",
    "sns.set_style('white')\n",
    "plt.rcParams['figure.figsize'] = (10,6)\n",
    "# salmon pink '#F5488F'\n",
    "# purple '#8731D7'\n",
    "\n",
    "# plot data\n",
    "plt.scatter(cadence_exp_intervals['target_cadence'], \n",
    "            cadence_exp_intervals['pace'], alpha=0.55, edgecolor='white',\n",
    "           s=140, color='#8731D7')\n",
    "# target speed\n",
    "plt.axhline(7, lw=1.5, linestyle='--', color='red')\n",
    "plt.text(180, 7.05, 'speed', fontsize=15)\n",
    "\n",
    "# target tempo\n",
    "plt.axhline(7.45, lw=1.5, linestyle='--', color='orange')\n",
    "plt.text(180, 7.5, 'tempo', fontsize=15)\n",
    "\n",
    "\n",
    "# target marathon pace\n",
    "plt.axhline(8.2, lw=1.5, linestyle='--', color='gray')\n",
    "plt.text(180, 8.25, 'marathon', fontsize=15)\n",
    "\n",
    "# set tick locations\n",
    "plt.xticks(np.arange(180, 210, 4), size=12)\n",
    "plt.yticks(np.arange(6.5, 10.5, 0.5), size=12)\n",
    "\n",
    "# set minor ticks\n",
    "mlx = MultipleLocator(1)\n",
    "plt.gca().axes.xaxis.set_minor_locator(mlx)\n",
    "plt.gca().axes.tick_params(axis='x', size=5, right='off', which='major')\n",
    "plt.gca().axes.tick_params(axis='x', size=3, right='off', which='minor')\n",
    "\n",
    "mly = MultipleLocator(0.25)\n",
    "plt.gca().axes.yaxis.set_minor_locator(mly)\n",
    "plt.gca().axes.tick_params(axis='y', size=5, right='off', which='major')\n",
    "plt.gca().axes.tick_params(axis='y', size=3, right='off', which='minor')\n",
    "\n",
    "# Format spines\n",
    "plt.gca().spines['right'].set_visible(False)\n",
    "plt.gca().spines['top'].set_visible(False)\n",
    "plt.gca().spines['left'].set_color('#766D71')\n",
    "plt.gca().spines['left'].set_linewidth(2.0)\n",
    "plt.gca().spines['bottom'].set_color('#766D71')\n",
    "plt.gca().spines['bottom'].set_linewidth(2.0)\n",
    "\n",
    "plt.title(\"The Grand Cadence Experiment\", size=17)\n",
    "plt.ylabel('Pace (minutes/mile)', size=14)\n",
    "plt.xlabel('Target Cadence (spm)', size=14)\n",
    "plt.tight_layout()\n",
    "plt.savefig('cadence_experiment_pace_vs_cadence.png')"
   ]
  },
  {
   "cell_type": "code",
   "execution_count": 327,
   "metadata": {},
   "outputs": [
    {
     "name": "stderr",
     "output_type": "stream",
     "text": [
      "/Users/aishaellahi/.pyenv/versions/2.7.12/lib/python2.7/site-packages/ipykernel_launcher.py:3: SettingWithCopyWarning: \n",
      "A value is trying to be set on a copy of a slice from a DataFrame.\n",
      "Try using .loc[row_indexer,col_indexer] = value instead\n",
      "\n",
      "See the caveats in the documentation: http://pandas.pydata.org/pandas-docs/stable/indexing.html#indexing-view-versus-copy\n",
      "  This is separate from the ipykernel package so we can avoid doing imports until\n"
     ]
    }
   ],
   "source": [
    "# assign colors to replicates\n",
    "rep_color_map = {1:'#AC210B', 2:'#2E54EF'}\n",
    "cadence_exp_intervals['rep_color'] = cadence_exp_intervals['replicate'].map(rep_color_map)"
   ]
  },
  {
   "cell_type": "code",
   "execution_count": 328,
   "metadata": {},
   "outputs": [
    {
     "data": {
      "text/html": [
       "<div>\n",
       "<style>\n",
       "    .dataframe thead tr:only-child th {\n",
       "        text-align: right;\n",
       "    }\n",
       "\n",
       "    .dataframe thead th {\n",
       "        text-align: left;\n",
       "    }\n",
       "\n",
       "    .dataframe tbody tr th {\n",
       "        vertical-align: top;\n",
       "    }\n",
       "</style>\n",
       "<table border=\"1\" class=\"dataframe\">\n",
       "  <thead>\n",
       "    <tr style=\"text-align: right;\">\n",
       "      <th></th>\n",
       "      <th>lap_index</th>\n",
       "      <th>replicate</th>\n",
       "      <th>rep_color</th>\n",
       "    </tr>\n",
       "  </thead>\n",
       "  <tbody>\n",
       "    <tr>\n",
       "      <th>0</th>\n",
       "      <td>4_2017-11-05</td>\n",
       "      <td>1</td>\n",
       "      <td>#AC210B</td>\n",
       "    </tr>\n",
       "    <tr>\n",
       "      <th>1</th>\n",
       "      <td>6_2017-11-05</td>\n",
       "      <td>2</td>\n",
       "      <td>#2E54EF</td>\n",
       "    </tr>\n",
       "  </tbody>\n",
       "</table>\n",
       "</div>"
      ],
      "text/plain": [
       "      lap_index  replicate rep_color\n",
       "0  4_2017-11-05          1   #AC210B\n",
       "1  6_2017-11-05          2   #2E54EF"
      ]
     },
     "execution_count": 328,
     "metadata": {},
     "output_type": "execute_result"
    }
   ],
   "source": [
    "cadence_exp_intervals[['lap_index', 'replicate', 'rep_color']].head(2)"
   ]
  },
  {
   "cell_type": "code",
   "execution_count": 334,
   "metadata": {},
   "outputs": [
    {
     "data": {
      "image/png": "[encoded data removed]",
      "text/plain": [
       "<matplotlib.figure.Figure at 0x11444bc50>"
      ]
     },
     "metadata": {},
     "output_type": "display_data"
    }
   ],
   "source": [
    "# Correlation between target and recorded average cadence\n",
    "plt.scatter(cadence_exp_intervals['target_cadence'], \n",
    "            cadence_exp_intervals['average_cadence'], alpha=0.75, edgecolor='white',\n",
    "           s=140, c=cadence_exp_intervals['rep_color'])\n",
    "\n",
    "# Vertical fill between\n",
    "plt.axvspan(184, 200, alpha=0.5, color='#EFF0F5', zorder=-1)\n",
    "\n",
    "# set tick locations\n",
    "plt.xticks(np.arange(180, 210, 4), size=12)\n",
    "plt.yticks(np.arange(184, 200, 2), size=12)\n",
    "\n",
    "# set minor ticks\n",
    "mlx = MultipleLocator(1)\n",
    "plt.gca().axes.xaxis.set_minor_locator(mlx)\n",
    "plt.gca().axes.tick_params(axis='x', size=5, right='off', which='major')\n",
    "plt.gca().axes.tick_params(axis='x', size=3, right='off', which='minor')\n",
    "\n",
    "mly = MultipleLocator(1)\n",
    "plt.gca().axes.yaxis.set_minor_locator(mly)\n",
    "plt.gca().axes.tick_params(axis='y', size=5, right='off', which='major')\n",
    "plt.gca().axes.tick_params(axis='y', size=3, right='off', which='minor')\n",
    "\n",
    "# Format spines\n",
    "plt.gca().spines['right'].set_visible(False)\n",
    "plt.gca().spines['top'].set_visible(False)\n",
    "plt.gca().spines['left'].set_color('#766D71')\n",
    "plt.gca().spines['left'].set_linewidth(2.0)\n",
    "plt.gca().spines['bottom'].set_color('#766D71')\n",
    "plt.gca().spines['bottom'].set_linewidth(2.0)\n",
    "\n",
    "# Label axes\n",
    "plt.xlabel('Target Cadence', size=14)\n",
    "plt.ylabel('Recorded Cadence', size=14)\n",
    "plt.title('Correlation Between Actual and Recorded Cadence', size=17)\n",
    "plt.savefig('actual_recorded_cadence_correlation.png')"
   ]
  },
  {
   "cell_type": "code",
   "execution_count": 302,
   "metadata": {},
   "outputs": [
    {
     "data": {
      "text/plain": [
       "array([1, 2])"
      ]
     },
     "execution_count": 302,
     "metadata": {},
     "output_type": "execute_result"
    }
   ],
   "source": [
    "cadence_exp_intervals['replicate'].unique()"
   ]
  },
  {
   "cell_type": "code",
   "execution_count": null,
   "metadata": {},
   "outputs": [],
   "source": [
    "cadence_exp_intervals['']"
   ]
  }
 ],
 "metadata": {
  "kernelspec": {
   "display_name": "Python 2",
   "language": "python",
   "name": "python2"
  },
  "language_info": {
   "codemirror_mode": {
    "name": "ipython",
    "version": 2
   },
   "file_extension": ".py",
   "mimetype": "text/x-python",
   "name": "python",
   "nbconvert_exporter": "python",
   "pygments_lexer": "ipython2",
   "version": "2.7.12"
  }
 },
 "nbformat": 4,
 "nbformat_minor": 2
}
